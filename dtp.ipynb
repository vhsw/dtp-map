{
 "nbformat": 4,
 "nbformat_minor": 2,
 "metadata": {
  "language_info": {
   "name": "python",
   "codemirror_mode": {
    "name": "ipython",
    "version": 3
   },
   "version": "3.7.5-final"
  },
  "orig_nbformat": 2,
  "file_extension": ".py",
  "mimetype": "text/x-python",
  "name": "python",
  "npconvert_exporter": "python",
  "pygments_lexer": "ipython3",
  "version": 3,
  "kernelspec": {
   "name": "python37564bitvenvvenv29ad8a086623482c9f5c9ec8796104e0",
   "display_name": "Python 3.7.5 64-bit ('.venv': venv)"
  }
 },
 "cells": [
  {
   "cell_type": "code",
   "execution_count": 65,
   "metadata": {},
   "outputs": [],
   "source": [
    "import folium\n",
    "import folium.plugins as plugins\n",
    "import numpy as np\n",
    "import pandas as pd\n",
    "\n",
    "# df = pd.read_csv('data/zel.csv', parse_dates=['date_time'])\n",
    "\n"
   ]
  },
  {
   "cell_type": "code",
   "execution_count": 66,
   "metadata": {},
   "outputs": [],
   "source": [
    "from database import engine\n",
    "df = pd.read_sql_table(\"DTP\", con=engine,)\n",
    "\n",
    "# df = df[df.description == 'Наезд на пешехода']\n",
    "df = df.dropna(subset=['latitude', 'longitude'])\n"
   ]
  },
  {
   "cell_type": "code",
   "execution_count": 69,
   "metadata": {},
   "outputs": [],
   "source": [
    "data = list(zip(df.latitude, df.longitude))\n",
    "# data = data[:10000]"
   ]
  },
  {
   "source": [
    "m = folium.Map([55.98, 37.2],\n",
    "               tiles='OpenStreetMap',\n",
    "               zoom_start=8,)\n",
    "hm = plugins.HeatMap(\n",
    "    data,\n",
    "    blur=4,\n",
    "    radius=5,\n",
    "    max_zoom=25\n",
    ")\n",
    "hm.add_to(m)\n",
    "m.save('map.html')\n",
    "# m"
   ],
   "cell_type": "code",
   "outputs": [],
   "metadata": {},
   "execution_count": 72
  },
  {
   "cell_type": "code",
   "execution_count": null,
   "metadata": {},
   "outputs": [],
   "source": []
  }
 ]
}